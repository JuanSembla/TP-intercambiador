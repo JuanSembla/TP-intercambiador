{
 "cells": [
  {
   "cell_type": "markdown",
   "id": "68bec79c",
   "metadata": {
    "slideshow": {
     "slide_type": "slide"
    }
   },
   "source": [
    "# Transferencia de Calor y Masa <br> *Trabajo Práctico: Intercambiador de calor de casco y tubos*\n",
    "\n",
    "## Juan Cruz Gonzalez Sembla\n",
    "### 1er Cuatrimestre de 2023"
   ]
  },
  {
   "cell_type": "markdown",
   "id": "2bddef4d",
   "metadata": {
    "slideshow": {
     "slide_type": "slide"
    }
   },
   "source": [
    "### INTERCAMBIADORES DE CALOR\n",
    "\n",
    "\n",
    "#### OBJETIVO\n",
    "\n",
    "Diseño de un intercambiador de tipo casco y tubos para el calentamiento de etilenglicol, procesado en una industria química. \n",
    "\n",
    "#### ENUNCIADO\n",
    "\n",
    "\n",
    "Se requieren calentar una cantidad $\\dot m_F$ de etilenglicol desde un temperatura $T_{FE}$, garantizando a la salida una temperatura  $T_{FS}=40^\\circ$ C. Para ello se dispone de un caudal $\\dot m_C$ de agua que ingresa a $T_{CE}=65^\\circ$C. El agua no podrá enfriarse por debajo de los $T_{CS}=20^\\circ$ C por requerimientos del sistema de calentamiento de la planta. A los efectos del proceso, no afecta que bajo situaciones especiales la temperatura del etilenglicol esté por encima de lo establecido. Considerar al agua como el fluido que pasa por los tubos y al etilenglicol en un por la carcasa."
   ]
  },
  {
   "cell_type": "markdown",
   "id": "a059b2f4",
   "metadata": {
    "slideshow": {
     "slide_type": "slide"
    }
   },
   "source": [
    "<br>\n",
    "\n",
    "#### Se pide:\n",
    "\n",
    "   1. Determinar las características de un intercambiador de casco y tubos que cumpla con los requerimientos. \n",
    "   2. Calcular las caídas de presión de ambas corrientes en su paso por el equipo.\n",
    "   3. Completar el cuadro de resumen que contenga las características constructivas y de operación fundamentales calculadas (Entregar el archivo Excel completo adjunto).\n",
    "   4. Hacer un plano conceptual a escala del equipo.\n",
    "   5. Hacer un plano a escala de la placa portatubos y su relación con la carcasa.\n",
    "   6. Durante la operación, el proceso sufre cierto desbalance que hace que la temperatura de entrada del etilenglicol disminuya 5ºC. Manteniendo los caudales constantes, determinar las nuevas temperaturas de salida. ¿Verifican las condiciones de funcionamiento requeridas? (Se recomienda utilizar el método e-NUT).\n",
    "   7. En los casos que no verifiquen, se dispone de un sistema de control del caudal de agua, para poder llevar al equipo dentro de los parámetros de funcionamiento adecuados. ¿Cuál es este nuevo caudal? (Se recomienda utilizar el método e-NUT)"
   ]
  },
  {
   "cell_type": "markdown",
   "id": "c7f80f40",
   "metadata": {
    "slideshow": {
     "slide_type": "slide"
    }
   },
   "source": [
    "## Inicialización de librerías\n",
    "\n",
    "<br>\n",
    "\n",
    "Lo primero que debemos hacer antes de escribir el código, es llamar a las librerías (o *packages*) que vamos a usar a lo largo del trabajo práctico. Utilizaremos librerías básicas como `numpy` y `matplotlib`, así como también librerías especializadas como `ht`, `CoolProp` y `fluids`."
   ]
  },
  {
   "cell_type": "code",
   "execution_count": 1,
   "id": "fab674bc",
   "metadata": {
    "slideshow": {
     "slide_type": "fragment"
    }
   },
   "outputs": [],
   "source": [
    "import numpy as np\n",
    "import matplotlib.pyplot as plt\n",
    "import ht\n",
    "import CoolProp as cp\n",
    "import fluids"
   ]
  },
  {
   "cell_type": "markdown",
   "id": "4f16d6cc",
   "metadata": {
    "slideshow": {
     "slide_type": "slide"
    }
   },
   "source": [
    "<br>\n",
    "\n",
    "## Paso 1: Datos del problema\n",
    "\n",
    "\n",
    "| Parámetro      | Valor |\n",
    "| :---        |    :----:   |\n",
    "| Corriente de Servicio:      | Agua de caldera tratada       |\n",
    "| Corriente de Proceso:   | Etilenglicol        |\n",
    "| Temperatura de etilenglicol a la entrada - $T_{FE}$ [°C] | 5 |\n",
    "| Temperatura de etilenglicol a la salida - $T_{FS}$ [°C] | 40 |\n",
    "| Temperatura del agua a la entrada - $T_{CE}$ [°C] | 65 |\n",
    "| Temperatura mínima del agua a la entrada - $T_{CSmin}$ [°C] | 20|\n",
    "| Caudal de etilenglicol - $\\dot{m}_F$ [kg/s] | 4.5 |\n",
    "\n",
    "Ahora podemos inicializar las variables:"
   ]
  },
  {
   "cell_type": "code",
   "execution_count": 2,
   "id": "64c94816",
   "metadata": {
    "slideshow": {
     "slide_type": "fragment"
    }
   },
   "outputs": [],
   "source": [
    "Tfe = 5  # °C\n",
    "Tfs = 40  # °C\n",
    "Tce = 65  # °C\n",
    "Tcs_min = 20  # °C\n",
    "m_f = 4.5  # kg/s"
   ]
  },
  {
   "cell_type": "markdown",
   "id": "82a04c2a",
   "metadata": {
    "slideshow": {
     "slide_type": "slide"
    }
   },
   "source": [
    "## Paso 1: Datos del problema\n",
    "\n",
    "Calcularemos los parámetros de funcionamiento del intercambiador a través de las ecuaciones de conservación de energía:\n",
    "\n",
    "\\begin{equation}\n",
    "\\tag{1}\n",
    "\\dot{Q} = \\dot{m}_F \\cdot C_F \\cdot (T_{FS} - T_{FE})\n",
    "\\end{equation}\n",
    "\n",
    "\\begin{equation}\n",
    "\\tag{2}\n",
    "\\dot{Q} = \\dot{m}_C \\cdot C_C \\cdot (T_{CS} - T_{CE})\n",
    "\\end{equation}"
   ]
  },
  {
   "cell_type": "markdown",
   "id": "eabac033",
   "metadata": {
    "slideshow": {
     "slide_type": "slide"
    }
   },
   "source": [
    "<br>\n",
    "\n",
    "## Paso 1: Datos del problema\n",
    "\n",
    "\n",
    "Además, contamos con la expresión que permite calcular el calor en función  del coeficiente global de transmisión $U$, el aérea de intercambio $A$, del diferencial de temperatura logarítmica media en cotra corriente $DTLM_{cc}$ y un factor de corrección de la diferencia de temperaturas $F_t$:\n",
    "\n",
    "\\begin{equation}\n",
    "\\tag{3}\n",
    "\\dot{Q} = UA \\cdot DTLM_{cc} \\cdot F_t\n",
    "\\end{equation}\n",
    "\n",
    "donde el diferencial de temperatura logarítmica media en contra corriente puede calcularse de la siguiente manera:\n",
    "\n",
    "\\begin{equation}\n",
    "DTLM_{cc} = \\frac{(T_{cs} - T_{fe}) - (T_{ce} - T_{fs})}{\\text{ln} \\Big( \\frac{T_{cs} - T_{fe}}{T_{ce} - T_{fs}} \\Big) }\n",
    "\\end{equation}\n",
    "\n",
    "Es visible que podemos calcular el calor a partir de (1). Sin embargo, tenemos dos incognitas ($\\dot{m}_c$ y $T_{cs}$) que nos impiden seguir adelante. Para resolver este problema, debemos adelantarnos a los pasos 2 y 3.\n"
   ]
  },
  {
   "cell_type": "markdown",
   "id": "a12452d9",
   "metadata": {
    "slideshow": {
     "slide_type": "slide"
    }
   },
   "source": [
    "## Paso 2: Pasos por carcasa\n",
    "\n",
    "<br>\n",
    "\n",
    "Como criterio de diseño tomaremos un intercambiador de un solo paso por carcasa $Np_s$. Luego, podemos inicializar la respectiva variable:\n"
   ]
  },
  {
   "cell_type": "code",
   "execution_count": 3,
   "id": "52242982",
   "metadata": {
    "slideshow": {
     "slide_type": "fragment"
    }
   },
   "outputs": [],
   "source": [
    "Nps = 1"
   ]
  },
  {
   "cell_type": "markdown",
   "id": "c71c27da",
   "metadata": {
    "slideshow": {
     "slide_type": "slide"
    }
   },
   "source": [
    "<br>\n",
    "\n",
    "## Paso 3: Obtener $F_t$\n",
    "\n",
    "En la referencia \"Intercambiadores de calor\" de E. Cao, podemos ver que no se aconseja diseñar con factores de corrección $F_t$ menores a 0,75 ya que el factor se torna excesivamente sensible a cambios en los parámetros, disminuyendo de manera drástica. El valor del coeficiente $F_t$ puede ser calculado de la siguiente manera:\n",
    "\n",
    "\\begin{equation}\n",
    "\\tag{4}\n",
    "F_t = \\frac{\\sqrt{R^2 + 1}}{R - 1} \\frac{\\text{ln}\\frac{1 - Px}{1 - R P_x}}{\\text{ln} \\frac{\\frac{2}{P_x} - 1 - R + \\sqrt{R^2 + 1}}{\\frac{2}{P_x} - 1 - R - \\sqrt{R^2 + 1}}}\n",
    "\\end{equation}\n",
    "\n",
    "donde los parámetros $S$, $R$ y $P_x$ están definidos como sigue:\n",
    "\n",
    "\\begin{equation}\n",
    "S = \\frac{T_{fs} - T_{fe}}{T_{ce} - T_{fe}} \\qquad \\qquad \\qquad R = \\frac{T_{ce} - T_{cs}}{T_{fs} - T_{fe}} \\qquad \\qquad \\qquad P_x = \\frac{1 - \\Big( \\frac{RS - 1}{S - 1} \\Big)^\\frac{1}{Np_s}}{R - \\Big( \\frac{RS - 1}{S - 1} \\Big)^\\frac{1}{Np_s}}\n",
    "\\end{equation}"
   ]
  },
  {
   "cell_type": "markdown",
   "id": "631393ca",
   "metadata": {
    "slideshow": {
     "slide_type": "slide"
    }
   },
   "source": [
    "<br>\n",
    "<br>\n",
    "\n",
    "Ahora vamos a hacer un solver que nos permita calcular la $T_{cs}$ mínima de manera que se cumpla $F_t > 0,75$"
   ]
  },
  {
   "cell_type": "code",
   "execution_count": 4,
   "id": "0eaf59f7",
   "metadata": {
    "slideshow": {
     "slide_type": "fragment"
    }
   },
   "outputs": [
    {
     "name": "stdout",
     "output_type": "stream",
     "text": [
      "La temperatura de salida del agua es Tcs = 37.25 °C\n"
     ]
    }
   ],
   "source": [
    "#Inicializamos las variables\n",
    "Tcs = Tcs_min\n",
    "Ft = 0\n",
    "\n",
    "while Ft <= 0.75:\n",
    "    #Calculamos R y S\n",
    "    S = (Tfs - Tfe) / (Tce - Tfe)\n",
    "    R = (Tce - Tcs) / (Tfs - Tfe)\n",
    "    \n",
    "    #Ahora debemos pedir que R sea distinto de 1 para evitar división por cero\n",
    "    if R != 1:\n",
    "        Px = (1 - ((R * S - 1) / (S - 1)) ** (1 / Nps)) / (R - ((R * S - 1) / (S - 1)) ** (1 / Nps))\n",
    "        \n",
    "        # Luego creamos variables auxiliares A, B y C para facilitar el cálculo.\n",
    "        A = np.sqrt(R ** 2 + 1) / (R - 1)\n",
    "        B = (1 - Px) / (1 - R * Px)\n",
    "        C = 2 / Px - 1 - R\n",
    "        D = (C + np.sqrt(R ** 2 + 1)) / (C - np.sqrt(R ** 2 + 1))\n",
    "\n",
    "        # Si B > 0 y D > 0 podemos calcular los logaritmos\n",
    "        if B > 0 and D > 0:\n",
    "            Ft = A * np.log(B) / np.log(D)\n",
    "\n",
    "    Tcs += 0.001  # Agregamos un dT a nuestra variable de interés\n",
    "    \n",
    "print('La temperatura de salida del agua es Tcs = %.2f °C'%Tcs)"
   ]
  },
  {
   "cell_type": "markdown",
   "id": "8593b7cf",
   "metadata": {
    "slideshow": {
     "slide_type": "slide"
    }
   },
   "source": [
    "Tomaremos un margen de seguridad de 5°C:"
   ]
  },
  {
   "cell_type": "code",
   "execution_count": 5,
   "id": "fd1b4bb3",
   "metadata": {
    "slideshow": {
     "slide_type": "fragment"
    }
   },
   "outputs": [
    {
     "name": "stdout",
     "output_type": "stream",
     "text": [
      "La temperatura de salida del agua es Tcs = 43.00 °C\n"
     ]
    }
   ],
   "source": [
    "Tcs = np.ceil(Tcs + 5)\n",
    "\n",
    "print('La temperatura de salida del agua es Tcs = %.2f °C'%Tcs)"
   ]
  },
  {
   "cell_type": "markdown",
   "id": "8169d153",
   "metadata": {
    "slideshow": {
     "slide_type": "fragment"
    }
   },
   "source": [
    "Luego, podemos regresar al paso 1."
   ]
  },
  {
   "cell_type": "markdown",
   "id": "6f338b92",
   "metadata": {
    "slideshow": {
     "slide_type": "slide"
    }
   },
   "source": [
    "## Paso 1: Datos del problema\n",
    "\n",
    "Vamos a calcularlas propiedades de los fluidos a la temperatura promedio entre la entrada y la salida:"
   ]
  },
  {
   "cell_type": "code",
   "execution_count": 6,
   "id": "159a3d88",
   "metadata": {
    "slideshow": {
     "slide_type": "fragment"
    }
   },
   "outputs": [
    {
     "name": "stdout",
     "output_type": "stream",
     "text": [
      "La temperatura media del etilenglicol es Tfm = 22.50 °C\n",
      "La temperatura media del agua es Tcm = 54.00 °C\n"
     ]
    }
   ],
   "source": [
    "Tfm = (Tfe + Tfs) / 2\n",
    "Tcm = (Tce + Tcs) / 2\n",
    "\n",
    "print('La temperatura media del etilenglicol es Tfm = %.2f °C'%Tfm)\n",
    "print('La temperatura media del agua es Tcm = %.2f °C'%Tcm)"
   ]
  },
  {
   "cell_type": "markdown",
   "id": "5135f859",
   "metadata": {
    "slideshow": {
     "slide_type": "slide"
    }
   },
   "source": [
    "## Paso 1: Datos del problema\n",
    "\n",
    "Luego, podemos usar la librería `CoolProp` para obtener las propiedades. Para el agua es directo, solo debemos indicar la presión de trabajo (que será atmosférica) y la temperatura media que calculamos previamente:"
   ]
  },
  {
   "cell_type": "code",
   "execution_count": 7,
   "id": "199b33ab",
   "metadata": {
    "slideshow": {
     "slide_type": "fragment"
    }
   },
   "outputs": [
    {
     "name": "stdout",
     "output_type": "stream",
     "text": [
      "El calor especifico del agua a la temperatura media C_c = 4182.55 J/kgK\n",
      "La viscosidad del agua a la temperatura media mu_c = 5.13e-04 kg/ms\n",
      "El número de Prandtl del agua a la temperatura media Pr_c = 3.33\n",
      "La conductividad del agua a la temperatura media k_c = 0.64 W/mK\n",
      "La densidad del agua a la temperatura media rho_c = 986.25 kg/m^3\n"
     ]
    }
   ],
   "source": [
    "C_c = cp.CoolProp.PropsSI('C', 'T', Tcm + 273, 'P', 101325, 'Water')  # Calor específico [J/kgK]\n",
    "mu_c = cp.CoolProp.PropsSI('V', 'T', Tcm + 273, 'P', 101325, 'Water')  # Viscosidad [kg/ms]\n",
    "Pr_c = cp.CoolProp.PropsSI('PRANDTL', 'T', Tcm + 273, 'P', 101325, 'Water')  # Prandtl\n",
    "k_c = cp.CoolProp.PropsSI('L', 'T', Tcm + 273, 'P', 101325, 'Water')  # Conductividad [W/mK]\n",
    "rho_c = cp.CoolProp.PropsSI('D', 'T', Tcm + 273, 'P', 101325, 'Water')  # Densidad [kg/m^3]\n",
    "\n",
    "\n",
    "print('El calor especifico del agua a la temperatura media C_c = %.2f J/kgK'%C_c)\n",
    "print('La viscosidad del agua a la temperatura media mu_c = %.2e kg/ms'%mu_c)\n",
    "print('El número de Prandtl del agua a la temperatura media Pr_c = %.2f'%Pr_c)\n",
    "print('La conductividad del agua a la temperatura media k_c = %.2f W/mK'%k_c)\n",
    "print('La densidad del agua a la temperatura media rho_c = %.2f kg/m^3'%rho_c)"
   ]
  },
  {
   "cell_type": "markdown",
   "id": "ebbb8a95",
   "metadata": {
    "slideshow": {
     "slide_type": "slide"
    }
   },
   "source": [
    "## Paso 1: Datos del problema\n",
    "\n",
    "Sin embargo, para el etilenglicol debemos tener en cuenta que el mismo es utilizado disuelto en agua, y la concentración de etylenglicol será tanto mayor cuanto menor sea el punto de congelamiento requerido por el sistema. En la siguiente figura tomada de la [referencia](https://www.ladco.com.ar/determinacion-de-etilenglicol-o-propilenglicol-en-el-fluido-refrigerante-ya-cargado-en-un-chiller-o-heladera/) podemos ver la variación del punto de congelamiento en función de la concentración:\n",
    "\n",
    "<img src=\"images/water_ethylene_glycol_freezing-points.png\" width=40% style=\"margin-left:auto; margin-right:auto\">"
   ]
  },
  {
   "cell_type": "markdown",
   "id": "c5994480",
   "metadata": {
    "slideshow": {
     "slide_type": "slide"
    }
   },
   "source": [
    "## Paso 1: Datos del problema\n",
    "\n",
    "Luego, para evitar problemas de congelamiento en nuestro circuito, usaremos una solución de 20% en agua. En el paquete de `CoolProp` la solución de etilenglicol en agua forma parte de la lista de fluidos incompresibles que podemos encontrar en la [documentación](https://coolprop.zegil.com.br/fluid_properties/Incompressibles.html) del paquete. Calculamos entonces las propiedades:"
   ]
  },
  {
   "cell_type": "code",
   "execution_count": 8,
   "id": "ced2dc54",
   "metadata": {
    "slideshow": {
     "slide_type": "fragment"
    }
   },
   "outputs": [
    {
     "name": "stdout",
     "output_type": "stream",
     "text": [
      "El calor especifico del etilenglicol a la temperatura media C_f = 3900.45 J/kgK\n",
      "La viscosidad del etilenglicol a la temperatura media mu_f = 1.56e-03 kg/ms\n",
      "El número de Prandtl del etilenglicol a la temperatura media Pr_f = 11.90\n",
      "La conductividad del etilenglicol a la temperatura media k_f = 0.51 W/mK\n",
      "La densidad del etilenglicol a la temperatura media rho_f = 1023.34 kg/m^3\n"
     ]
    }
   ],
   "source": [
    "C_f = cp.CoolProp.PropsSI('C', 'T', Tfm + 273, 'P', 101325, 'INCOMP::MEG-20%')  # Calor específico [J/kgK]\n",
    "mu_f = cp.CoolProp.PropsSI('V', 'T', Tfm + 273, 'P', 101325, 'INCOMP::MEG-20%')  # Viscosidad [kg/ms]\n",
    "Pr_f = cp.CoolProp.PropsSI('PRANDTL', 'T', Tfm + 273, 'P', 101325, 'INCOMP::MEG-20%')  # Prandtl\n",
    "k_f = cp.CoolProp.PropsSI('L', 'T', Tfm + 273, 'P', 101325, 'INCOMP::MEG-20%')  # Conductividad [W/mK]\n",
    "rho_f = cp.CoolProp.PropsSI('D', 'T', Tfm + 273, 'P', 101325, 'INCOMP::MEG-20%')  # Densidad [kg/m^3]\n",
    "\n",
    "print('El calor especifico del etilenglicol a la temperatura media C_f = %.2f J/kgK'%C_f)\n",
    "print('La viscosidad del etilenglicol a la temperatura media mu_f = %.2e kg/ms'%mu_f)\n",
    "print('El número de Prandtl del etilenglicol a la temperatura media Pr_f = %.2f'%Pr_f)\n",
    "print('La conductividad del etilenglicol a la temperatura media k_f = %.2f W/mK'%k_f)\n",
    "print('La densidad del etilenglicol a la temperatura media rho_f = %.2f kg/m^3'%rho_f)"
   ]
  },
  {
   "cell_type": "markdown",
   "id": "df4ed136",
   "metadata": {
    "slideshow": {
     "slide_type": "slide"
    }
   },
   "source": [
    "<br>\n",
    "\n",
    "## Paso 1: Datos del problema\n",
    "\n",
    "Luego, podemos calcular el calor usando (1):"
   ]
  },
  {
   "cell_type": "code",
   "execution_count": 9,
   "id": "ac9e752e",
   "metadata": {
    "slideshow": {
     "slide_type": "fragment"
    }
   },
   "outputs": [
    {
     "name": "stdout",
     "output_type": "stream",
     "text": [
      "El calor intercambiado es Q = 614321.55 W\n"
     ]
    }
   ],
   "source": [
    "Q = m_f * C_f * (Tfs - Tfe)\n",
    "\n",
    "print('El calor intercambiado es Q = %.2f W'%Q)"
   ]
  },
  {
   "cell_type": "markdown",
   "id": "14b8ad8f",
   "metadata": {
    "slideshow": {
     "slide_type": "fragment"
    }
   },
   "source": [
    "Así, podemos despejar el caudal másico con (2):"
   ]
  },
  {
   "cell_type": "code",
   "execution_count": 10,
   "id": "4b8f30e5",
   "metadata": {
    "slideshow": {
     "slide_type": "fragment"
    }
   },
   "outputs": [
    {
     "name": "stdout",
     "output_type": "stream",
     "text": [
      "El caudal másico del agua es m_c = 6.68 kg/s\n"
     ]
    }
   ],
   "source": [
    "m_c = Q / (C_c * (Tce - Tcs))  # kg/s\n",
    "\n",
    "print('El caudal másico del agua es m_c = %.2f kg/s'%m_c)"
   ]
  },
  {
   "cell_type": "markdown",
   "id": "cf9fadeb",
   "metadata": {
    "slideshow": {
     "slide_type": "fragment"
    }
   },
   "source": [
    "Ahora, para el paso 2 ya sabemos que $Np_s = 1$, por lo que pasamos al cálculo de $F_t$, es decir, el paso 3. Recordamos que cuando obtuvimos $T_{cs}$, no usamos la temperatura que resultó del solver sino una levemente superior, razón por la cual debemos recalcular el $F_t$."
   ]
  },
  {
   "cell_type": "markdown",
   "id": "8c885ac7",
   "metadata": {
    "slideshow": {
     "slide_type": "slide"
    }
   },
   "source": [
    "## Paso 3: Obtener $F_t$\n",
    "\n",
    "Para obtener $F_t$ usaremos una de las funcionalidades internas del paquete `ht`."
   ]
  },
  {
   "cell_type": "code",
   "execution_count": 11,
   "id": "494aec36",
   "metadata": {
    "slideshow": {
     "slide_type": "fragment"
    }
   },
   "outputs": [
    {
     "name": "stdout",
     "output_type": "stream",
     "text": [
      "El valor de Ft = 0.847\n"
     ]
    }
   ],
   "source": [
    "Ft = ht.F_LMTD_Fakheri(Tci=Tfe, Tco=Tfs, Thi=Tce, Tho=Tcs, shells=1)\n",
    "\n",
    "print('El valor de Ft = %.3f'%Ft)"
   ]
  },
  {
   "cell_type": "markdown",
   "id": "bf18bc72",
   "metadata": {
    "slideshow": {
     "slide_type": "slide"
    }
   },
   "source": [
    "## Paso 4: Adoptar U\n",
    "\n",
    "Ahora adoptaremos un valor estimado para el coeficiente global de transmisión $U_{est}$. Tomaremos el valor medio sugerido por la referencia bibliográfica \"Intercambiadores de calor\" de E. Cao (pág. 153) para el intercambio entre agua y solventes orgánicos:"
   ]
  },
  {
   "cell_type": "code",
   "execution_count": 12,
   "id": "462e89f6",
   "metadata": {
    "slideshow": {
     "slide_type": "fragment"
    }
   },
   "outputs": [],
   "source": [
    "U = 560  # W/m^2K"
   ]
  },
  {
   "cell_type": "markdown",
   "id": "420454ff",
   "metadata": {
    "slideshow": {
     "slide_type": "slide"
    }
   },
   "source": [
    "## Paso 5: \n",
    "\n",
    "Calcularemos el área estimada a través de la ecuación (3), para lo cual debemos primero computar el valor del diferencial de temperatura logarítmica media. Para el cálculo del $DTLM_{cc}$ haremos uso de otra de las funcionalidades internas de la librería `ht`:"
   ]
  },
  {
   "cell_type": "code",
   "execution_count": 13,
   "id": "b70fbf1e",
   "metadata": {
    "slideshow": {
     "slide_type": "fragment"
    }
   },
   "outputs": [
    {
     "name": "stdout",
     "output_type": "stream",
     "text": [
      "El valor del diferencial de temperatura logarítmica media es DTLM_cc = 31.05 °C\n"
     ]
    }
   ],
   "source": [
    "DTLM_cc = ht.LMTD(Tci=Tfe, Tco=Tfs, Thi=Tce, Tho=Tcs)  # °C\n",
    "\n",
    "print('El valor del diferencial de temperatura logarítmica media es DTLM_cc = %.2f °C'%DTLM_cc)"
   ]
  },
  {
   "cell_type": "markdown",
   "id": "a5793abd",
   "metadata": {
    "slideshow": {
     "slide_type": "fragment"
    }
   },
   "source": [
    "Luego, podemos calcular el área estimada de intercambio $A_{est}$:"
   ]
  },
  {
   "cell_type": "code",
   "execution_count": 14,
   "id": "ee2f89f4",
   "metadata": {
    "slideshow": {
     "slide_type": "fragment"
    }
   },
   "outputs": [
    {
     "name": "stdout",
     "output_type": "stream",
     "text": [
      "El área de intercambio estimada es A = 41.72 m^2\n"
     ]
    }
   ],
   "source": [
    "A = Q / (U * DTLM_cc * Ft)  # m^2\n",
    "\n",
    "print('El área de intercambio estimada es A = %.2f m^2'%A)"
   ]
  },
  {
   "cell_type": "markdown",
   "id": "fe7bfc14",
   "metadata": {
    "slideshow": {
     "slide_type": "slide"
    }
   },
   "source": [
    "## Paso 6: Selección de tubos\n",
    "\n",
    "Tomaremos tubos de 1 pulgada de diámetro y de espesor 8 según norma BWG, de longitud 3 m. En la referencia bibliográfica \"Intercambiadores de calor\" de E. Cao (pág. 139) tenemos un cuadro que indica las dimensiones de los tubos según esta norma:\n",
    "\n",
    "<img src=\"images/dimensiones-tubos-norma-BWG.png\" width=20% style=\"margin-left:auto; margin-right:auto\">"
   ]
  },
  {
   "cell_type": "markdown",
   "id": "45dd497b",
   "metadata": {
    "slideshow": {
     "slide_type": "slide"
    }
   },
   "source": [
    "## Paso 6\n",
    "\n",
    "Luego, podemos inicializar las variables correspondientes a los tubos seleccionados:"
   ]
  },
  {
   "cell_type": "code",
   "execution_count": 15,
   "id": "453d6c70",
   "metadata": {
    "slideshow": {
     "slide_type": "fragment"
    }
   },
   "outputs": [],
   "source": [
    "D = 0.0254  # m\n",
    "Di = 0.017  # m\n",
    "e = (D - Di) / 2  # m \n",
    "Lt = 3  # m"
   ]
  },
  {
   "cell_type": "markdown",
   "id": "941ea664",
   "metadata": {
    "slideshow": {
     "slide_type": "slide"
    }
   },
   "source": [
    "## Paso 7: Cálculo de la cantidad de tubos $N_t^{est}$\n",
    "\n",
    "La cantidad de tubos multiplicada por la superficie exterior del tubo es igual al área de intercambio estimada en el paso 5:\n",
    "\n",
    "\\begin{equation}\n",
    "\\tag{5}\n",
    "N_t = \\frac{A_{est}}{\\pi D L_t}\n",
    "\\end{equation}"
   ]
  },
  {
   "cell_type": "code",
   "execution_count": 16,
   "id": "aad7e36f",
   "metadata": {
    "slideshow": {
     "slide_type": "fragment"
    }
   },
   "outputs": [
    {
     "name": "stdout",
     "output_type": "stream",
     "text": [
      "La cantidad de tubos es Nt = 175\n"
     ]
    }
   ],
   "source": [
    "Nt = int(np.ceil(A / (np.pi * D * Lt)))\n",
    "\n",
    "print(f'La cantidad de tubos es Nt = {Nt}')"
   ]
  },
  {
   "cell_type": "markdown",
   "id": "102f25d8",
   "metadata": {
    "slideshow": {
     "slide_type": "slide"
    }
   },
   "source": [
    "## Paso 8: Cálculo del número de pasos por tubos $Np_t$\n",
    "\n",
    "Para tener altos coeficientes de intercambio pero con la precaución de que el $\\Delta P$ no aumente de manera considerable, buscamos un número de Reynolds en los tubos superior a 10000:\n",
    "\n",
    "\\begin{equation}\n",
    "Re_d = \\frac{4 \\dot{m}_T}{\\pi D_i \\mu} \\frac{Np_t}{N_t^{est}} > 10000 \\Rightarrow Np_t > \\frac{10^4 N_t^{est} \\pi \\mu D_i}{4 \\dot{m}_T}\n",
    "\\end{equation}"
   ]
  },
  {
   "cell_type": "code",
   "execution_count": 17,
   "id": "c49a82cf",
   "metadata": {
    "slideshow": {
     "slide_type": "fragment"
    }
   },
   "outputs": [
    {
     "name": "stdout",
     "output_type": "stream",
     "text": [
      "La cantidad de pasos por tubos es Npt = 2\n"
     ]
    }
   ],
   "source": [
    "Npt = 10**4 * Nt * np.pi * mu_c * Di / (4 * m_c)\n",
    "Npt = int(np.ceil(Npt / 2) * 2)  # Buscamos el próximo par superior\n",
    "\n",
    "print(f'La cantidad de pasos por tubos es Npt = {Npt}')"
   ]
  },
  {
   "cell_type": "markdown",
   "id": "77e5289d",
   "metadata": {
    "slideshow": {
     "slide_type": "slide"
    }
   },
   "source": [
    "## Paso 9: Tamaño de carcasa $D_s$\n",
    "\n",
    "Haremos uso de una placa portatubos de cabezales fijos con una distribución de tubos en cuadrado. El pitch $P_t$ recomendado es de 1,25 veces el diámetro exterior, tal y como podemos ver en la referencia \"Intercambiadores de calor\" de E. Cao. Para seleccionar el diámetro de la carcasa $D_s$, podemos usar la tabla que encontramos en la página 140 del libro, o usar una de las [funciones internas](https://github.com/CalebBell/ht/blob/master/ht/hx.py\n",
    ") del paquete `ht`:"
   ]
  },
  {
   "cell_type": "code",
   "execution_count": 18,
   "id": "8a80eae4",
   "metadata": {
    "slideshow": {
     "slide_type": "fragment"
    }
   },
   "outputs": [
    {
     "name": "stdout",
     "output_type": "stream",
     "text": [
      "El diámetro de carcasa es Ds = 20.53''\n"
     ]
    }
   ],
   "source": [
    "Pt = 1.25 * D  # m\n",
    "\n",
    "Ds = ht.DBundle_for_Ntubes_Phadkeb(Nt, D, Pt, Npt, angle=90)  # m\n",
    "\n",
    "print(\"El diámetro de carcasa es Ds = %.2f''\"%(Ds / 0.0254))"
   ]
  },
  {
   "cell_type": "markdown",
   "id": "58c5e60a",
   "metadata": {
    "slideshow": {
     "slide_type": "slide"
    }
   },
   "source": [
    "## Paso 9: Tamaño de carcasa $D_s$\n",
    "Sin embargo, como puede ocurrir que el diámetro resultante no coincida con los disponibles, hemos automatizado la selección del diámetro de carcasa por medio de la creación de un diccionario que contiene todos los diámetros de la tabla. El proceso consiste en buscar el diametro inmediatamente superior. Luego, recalculamos el número de tubos que se corresponde con este diámetro de carcasa $D_s$, esta vez usando otra de las funcionalidades de `ht`:"
   ]
  },
  {
   "cell_type": "code",
   "execution_count": 19,
   "id": "1b875aa6",
   "metadata": {
    "slideshow": {
     "slide_type": "fragment"
    }
   },
   "outputs": [
    {
     "name": "stdout",
     "output_type": "stream",
     "text": [
      "El diámetro de carcasa es Ds = 21.25''\n",
      "El número de tubos es Nt = 196\n"
     ]
    }
   ],
   "source": [
    "dict_Ds = {'Diametros':[8, 10, 12, 13.25, 15.25, 17.25, 19.25, 21.25, 23.25, 25, 27, 29, 31, 33, 35, 37]}\n",
    "\n",
    "idx = (np.abs((Ds / 0.0254) * np.ones(np.shape(dict_Ds['Diametros'])[0])  - dict_Ds['Diametros'])).argmin()\n",
    "\n",
    "if (Ds / 0.0254) < dict_Ds['Diametros'][idx]:\n",
    "    Ds = dict_Ds['Diametros'][idx] * 0.0254  # m\n",
    "else: \n",
    "    Ds = dict_Ds['Diametros'][idx + 1]  * 0.0254  # m\n",
    "\n",
    "Nt = ht.Ntubes(Ds, D, Pt, Ntp=Npt, angle=90, Method=None)\n",
    "# Nt = ht.Ntubes_Phadkeb(Ds, D, Pt, Ntp=Npt, angle=90)\n",
    "\n",
    "print(\"El diámetro de carcasa es Ds = %.2f''\"%(Ds / 0.0254))\n",
    "print(f'El número de tubos es Nt = {Nt}')"
   ]
  },
  {
   "cell_type": "markdown",
   "id": "a4b885fd",
   "metadata": {
    "slideshow": {
     "slide_type": "slide"
    }
   },
   "source": [
    "## Paso 10: Cálculo de la superficie de intercambio real $A_{real}$\n",
    "\n",
    "Como hemos modificado la cantidad de tubos, debemos volver a calcular el área real:\n",
    "\n",
    "\\begin{equation}\n",
    "A_{real} = \\pi D L_t N_t\n",
    "\\end{equation}"
   ]
  },
  {
   "cell_type": "code",
   "execution_count": 20,
   "id": "d7d1f1bf",
   "metadata": {
    "slideshow": {
     "slide_type": "fragment"
    }
   },
   "outputs": [
    {
     "name": "stdout",
     "output_type": "stream",
     "text": [
      "El área de intercambio real es A = 46.92 m^2\n"
     ]
    }
   ],
   "source": [
    "A = np.pi * Lt * D * Nt\n",
    "\n",
    "print('El área de intercambio real es A = %.2f m^2'%A)"
   ]
  },
  {
   "cell_type": "markdown",
   "id": "5a3be81b",
   "metadata": {
    "slideshow": {
     "slide_type": "slide"
    }
   },
   "source": [
    "## Paso 11: Verificar el $U_{est}$\n",
    "\n",
    "Podemos calcular el $U$ de la siguiente manera:\n",
    "\n",
    "\\begin{equation}\n",
    "\\tag{6}\n",
    "U = \\frac{1}{\\frac{1}{U^{limpio}} + R_{fi} \\frac{D}{D_i} + R_{fe}}\n",
    "\\end{equation}\n",
    "\n",
    "donde $R_{fi}$ y $R_{fe}$ son las resistencias de ensuciamiento en el área interior y exterior respectivamente. "
   ]
  },
  {
   "cell_type": "markdown",
   "id": "92ebd87f",
   "metadata": {
    "slideshow": {
     "slide_type": "slide"
    }
   },
   "source": [
    "## Paso 11: Verificar el $U_{est}$\n",
    "\n",
    "El coeficiente global de transmición $U^{limpio}$ se obtiene según:\n",
    "\n",
    "\\begin{equation}\n",
    "U^{limpio} = \\frac{1}{\\frac{D}{h_i D_i} + \\frac{\\text{ln}(D/D_i)D}{2 k_w} + \\frac{1}{h_e}}\n",
    "\\end{equation}\n",
    "\n",
    "donde podemos ver en el denominador la suma de un término asociado a la convección del lado interior, la conducción a través de la pared del tubo y la convección del lado exterior. Como el término conductivo es despreciable respecto a la convección en interna y externa, podemos escribir $U^{limpio}$ de la siguiente manera:\n",
    "\n",
    "\\begin{equation}\n",
    "\\tag{7}\n",
    "U^{limpio} = \\frac{1}{\\frac{D}{h_i D_i} + \\frac{1}{h_e}}\n",
    "\\end{equation}\n",
    "\n",
    "Luego, podemos ver que para aplicar las ecuaciones (6) y (7) debemos obtener los coeficientes de intercambio $h_i$ y $h_e$."
   ]
  },
  {
   "cell_type": "markdown",
   "id": "4bea176c",
   "metadata": {
    "slideshow": {
     "slide_type": "slide"
    }
   },
   "source": [
    "## Paso 12: Cálculo del coeficiente de convección interior $h_i'$\n",
    "\n",
    "El coeficiente de convección interno sin corregir puede calcularse de la siguiente manera:\n",
    "\n",
    "\\begin{equation}\n",
    "\\tag{8}\n",
    "h_i' = \\frac{Nu_t' k_c}{D_i}\n",
    "\\end{equation}\n",
    "\n",
    "donde $Nu_t'$ es el Nusselt de los tubos sin corregir. Para calcular este parámetro, podemos hacer uso de la ecuación (4.4) de la referencia \"Intercambiadores de calor\" de E. Cao (pág. 71), donde para flujo turbulento (i.e. $Re_d > 10000$) tenemos:\n",
    "\n",
    "\\begin{equation}\n",
    "\\tag{9}\n",
    "Nu_t' = 0.023 Re_d^{0.8} Pr^{1/3}\n",
    "\\end{equation}"
   ]
  },
  {
   "cell_type": "markdown",
   "id": "9c5cba5e",
   "metadata": {
    "slideshow": {
     "slide_type": "slide"
    }
   },
   "source": [
    "## Paso 12: Cálculo del coeficiente de convección interior $h_i'$\n",
    "\n",
    "\n",
    "Por otra parte, también podemos usar una de las funciones internas de `ht`, previo cálculo del nuevo número de $Re_d$ (ya que el número de tubos ha sido modificado en el paso 9)."
   ]
  },
  {
   "cell_type": "code",
   "execution_count": 21,
   "id": "19b3f86c",
   "metadata": {
    "slideshow": {
     "slide_type": "fragment"
    }
   },
   "outputs": [
    {
     "name": "stdout",
     "output_type": "stream",
     "text": [
      "El número de Nusselt interno sin corregir es Nu_c = 54.19\n"
     ]
    }
   ],
   "source": [
    "Re_d = 4 * m_c* Npt / (np.pi * mu_c * Di * Nt)\n",
    "\n",
    "Nu_c = ht.conv_internal.turbulent_Colburn(Re_d, Pr_c)\n",
    "print(\"El número de Nusselt interno sin corregir es Nu_c = %.2f\"%Nu_c)"
   ]
  },
  {
   "cell_type": "markdown",
   "id": "f5bf1586",
   "metadata": {
    "slideshow": {
     "slide_type": "fragment"
    }
   },
   "source": [
    "Luego podemos calcular el coeficiente de intercambio interno sin corregir usando la ecuación (8):"
   ]
  },
  {
   "cell_type": "code",
   "execution_count": 22,
   "id": "5dddd378",
   "metadata": {
    "slideshow": {
     "slide_type": "fragment"
    }
   },
   "outputs": [
    {
     "name": "stdout",
     "output_type": "stream",
     "text": [
      "El coeficiente de intercambio interno sin corregir es h_c = 2055.33 W/K\n"
     ]
    }
   ],
   "source": [
    "h_c = Nu_c * k_c / Di  # W/K\n",
    "\n",
    "print(\"El coeficiente de intercambio interno sin corregir es h_c = %.2f W/K\"%h_c)"
   ]
  },
  {
   "cell_type": "markdown",
   "id": "00ab258c",
   "metadata": {
    "slideshow": {
     "slide_type": "slide"
    }
   },
   "source": [
    "<br>\n",
    "\n",
    "## Paso 13: Cálculo del área de flujo del lado de la carcasa\n",
    "\n",
    "Como podemos ver en la referencia \"Intercambiadores de calor\" de E. Cao (pág. 75), dada la dificultad de definir una velocidad del flujo por carcasa, Kern propone el cálculo de un área que se corresponde con la hilera hipotética de tubos que pasa por la carcasa:\n",
    "\n",
    "<div>\n",
    "    <div style=\"display: inline-block;  width: 50%;\">\n",
    "Luego, podemos escribir:\n",
    "\n",
    "\\begin{equation}\n",
    "\\tag{10}\n",
    "A_s = \\frac{c B D_s}{P_t}\n",
    "\\end{equation}\n",
    "\n",
    "donde c es el claro entre tubos (que puede calcularse como $c = P_t - D$) y B es la separación entre bafles que consideramos como $0.25 D_s$.\n",
    "    </div>\n",
    "    <div style=\"display: inline-block; vertical-align: text-bottom; width: 40%;\">\n",
    "        <br>\n",
    "        <img src=\"images/area-flujo-carcasa.png\" width=40% style=\"margin-left:auto; margin-right:auto\">\n",
    "    </div>\n",
    "</div>\n",
    "\n"
   ]
  },
  {
   "cell_type": "code",
   "execution_count": 23,
   "id": "d0ca7179",
   "metadata": {
    "slideshow": {
     "slide_type": "fragment"
    }
   },
   "outputs": [
    {
     "name": "stdout",
     "output_type": "stream",
     "text": [
      "El área del flujo del lado carcasa es As = 0.01 m^2\n"
     ]
    }
   ],
   "source": [
    "As = (Pt - D) * 0.25 * Ds * Ds / Pt  # m^2 - Recordamos que Pt = 1.25 D --> c = Pt - D = 1.25 D - D = 0.25 D\n",
    "\n",
    "print(\"El área del flujo del lado carcasa es As = %.2f m^2\"%As)"
   ]
  },
  {
   "cell_type": "markdown",
   "id": "d397d61f",
   "metadata": {
    "slideshow": {
     "slide_type": "slide"
    }
   },
   "source": [
    "## Paso 14: Cálculo del diámetro equivalente $D_e$\n",
    "\n",
    "La definición del diámetro equivalente de Kern para el cálculo del número de Reynolds es la siguiente:\n",
    "\n",
    "\\begin{equation}\n",
    "\\tag{11}\n",
    "D_e = \\frac{4 P_t^2 - \\pi D^2}{\\pi D}\n",
    "\\end{equation}"
   ]
  },
  {
   "cell_type": "code",
   "execution_count": 24,
   "id": "a5a9d076",
   "metadata": {
    "slideshow": {
     "slide_type": "fragment"
    }
   },
   "outputs": [
    {
     "name": "stdout",
     "output_type": "stream",
     "text": [
      "El diámetro equivalente es De = 0.025 m\n"
     ]
    }
   ],
   "source": [
    "De = (4 * Pt ** 2 - np.pi * D **2) / (np.pi * D)  # m\n",
    "\n",
    "print(\"El diámetro equivalente es De = %.3f m\"%De)"
   ]
  },
  {
   "cell_type": "markdown",
   "id": "d58e1290",
   "metadata": {
    "slideshow": {
     "slide_type": "slide"
    }
   },
   "source": [
    "## Paso 15: Cálculo del número de Reynolds por carcasa $Re_s$\n",
    "\n",
    "Con el área de flujo del lado de la carcasa y el diámetro equivalente podemos obtener $Re_s$:\n",
    "\n",
    "\\begin{equation}\n",
    "\\tag{12}\n",
    "Re_s = \\frac{D_e \\dot{m}_s}{A_s \\mu}\n",
    "\\end{equation}"
   ]
  },
  {
   "cell_type": "code",
   "execution_count": 25,
   "id": "c61a9ff2",
   "metadata": {
    "slideshow": {
     "slide_type": "fragment"
    }
   },
   "outputs": [
    {
     "name": "stdout",
     "output_type": "stream",
     "text": [
      "El número de Reynols del lado carcasa es Re_s = 4986.253\n"
     ]
    }
   ],
   "source": [
    "Re_s = De * m_f / (mu_f * As)\n",
    "\n",
    "print(\"El número de Reynols del lado carcasa es Re_s = %.3f\"%Re_s)"
   ]
  },
  {
   "cell_type": "markdown",
   "id": "9503e9d1",
   "metadata": {
    "slideshow": {
     "slide_type": "slide"
    }
   },
   "source": [
    "## Paso 16: Cálculo del coeficiente de convección exterior $h_e'$\n",
    "\n",
    "Para el cálculo de este coeficiente haremos uso de la ecuación (5.7) que encontramos en la referencia \"Intercambiadores de calor\" de E. Cao  (pág. 77):\n",
    "\n",
    "\\begin{equation}\n",
    "\\tag{13}\n",
    "Nu_s' = 0.36 Re_s^{0.55} Pr^{1/3}\n",
    "\\end{equation}"
   ]
  },
  {
   "cell_type": "code",
   "execution_count": 26,
   "id": "2df4dcce",
   "metadata": {
    "slideshow": {
     "slide_type": "fragment"
    }
   },
   "outputs": [
    {
     "name": "stdout",
     "output_type": "stream",
     "text": [
      "El número de Nusselt externo sin corregir es Nu_f = 88.84\n"
     ]
    }
   ],
   "source": [
    "Nu_f = 0.36 * Re_s ** 0.55 * Pr_f ** (1 / 3)\n",
    "\n",
    "print(\"El número de Nusselt externo sin corregir es Nu_f = %.2f\"%Nu_f)"
   ]
  },
  {
   "cell_type": "markdown",
   "id": "a4ad94c5",
   "metadata": {
    "slideshow": {
     "slide_type": "fragment"
    }
   },
   "source": [
    "Luego, el coeficiente de convección exterior sin corregir será:"
   ]
  },
  {
   "cell_type": "code",
   "execution_count": 27,
   "id": "e01ddbfb",
   "metadata": {
    "slideshow": {
     "slide_type": "fragment"
    }
   },
   "outputs": [
    {
     "name": "stdout",
     "output_type": "stream",
     "text": [
      "El coeficiente de intercambio externo sin corregir es h_f = 1784.83 W/K\n"
     ]
    }
   ],
   "source": [
    "h_f = Nu_f * k_f / D  # W/K\n",
    "\n",
    "print(\"El coeficiente de intercambio externo sin corregir es h_f = %.2f W/K\"%h_f)"
   ]
  },
  {
   "cell_type": "markdown",
   "id": "0b1dbe47",
   "metadata": {
    "slideshow": {
     "slide_type": "slide"
    }
   },
   "source": [
    "## Paso 17: Cálculo de la temperatura promedio de la pared $T_w$ y corrección de los coeficientes\n",
    "\n",
    "La temperatura promedio de la pared puede ser calculada de la siguiente manera:\n",
    "\n",
    "\\begin{equation}\n",
    "\\tag{14}\n",
    "\\bar{T}_w = \\frac{h_i' \\bar{T}_i + h_e' \\bar{T}_e}{h_i' + h_e'}\n",
    "\\end{equation}"
   ]
  },
  {
   "cell_type": "code",
   "execution_count": 28,
   "id": "72d7401c",
   "metadata": {
    "slideshow": {
     "slide_type": "fragment"
    }
   },
   "outputs": [
    {
     "name": "stdout",
     "output_type": "stream",
     "text": [
      "La temperatura promedio de la pared es Tw = 39.36 °C\n"
     ]
    }
   ],
   "source": [
    "Tw = (h_c * Tcm + h_f * Tfm) / (h_c + h_f)  # °C\n",
    "\n",
    "print(\"La temperatura promedio de la pared es Tw = %.2f °C\"%Tw)"
   ]
  },
  {
   "cell_type": "markdown",
   "id": "0696d763",
   "metadata": {
    "slideshow": {
     "slide_type": "slide"
    }
   },
   "source": [
    "## Paso 17: Cálculo de la temperatura promedio de la pared $T_w$ y corrección de los coeficientes\n",
    "\n",
    "Luego, podemos corregir los coeficientes de la siguiente manera:\n",
    "\n",
    "\\begin{equation}\n",
    "h_i = h_i' \\Big( \\frac{\\mu}{\\mu_w} \\Big)^{0.14} \\qquad \\qquad h_e = h_e' \\Big( \\frac{\\mu}{\\mu_w} \\Big)^{0.14}\n",
    "\\end{equation}\n",
    "\n",
    "Para lo cual debemos calcular las viscosidades de los fluidos en la pared."
   ]
  },
  {
   "cell_type": "code",
   "execution_count": 29,
   "id": "53199cc4",
   "metadata": {
    "slideshow": {
     "slide_type": "fragment"
    }
   },
   "outputs": [
    {
     "name": "stdout",
     "output_type": "stream",
     "text": [
      "El coeficiente de intercambio interno corregido es h_c = 1983.01 W/K\n",
      "El coeficiente de intercambio externo corregido es h_f = 1890.95 W/K\n"
     ]
    }
   ],
   "source": [
    "mu_fw = cp.CoolProp.PropsSI('V', 'T', Tw + 273, 'P', 101325, 'INCOMP::MEG-20%')  # Viscosidad [kg/ms]\n",
    "mu_cw = cp.CoolProp.PropsSI('V', 'T', Tw + 273, 'P', 101325, 'Water')  # Viscosidad [kg/ms]\n",
    "\n",
    "h_c = h_c * (mu_c / mu_cw) ** 0.14\n",
    "h_f = h_f * (mu_f / mu_fw) ** 0.14\n",
    "\n",
    "print(\"El coeficiente de intercambio interno corregido es h_c = %.2f W/K\"%h_c)\n",
    "print(\"El coeficiente de intercambio externo corregido es h_f = %.2f W/K\"%h_f)"
   ]
  },
  {
   "cell_type": "markdown",
   "id": "45f117b1",
   "metadata": {
    "slideshow": {
     "slide_type": "slide"
    }
   },
   "source": [
    "## Paso 18: Cálculo del U\n",
    "\n",
    "Ahora aplicamos las ecuaciones (7) y luego (6) para el cálculo de $U^{limpio}$ y $U$ respectivamente. La referencia bibliográfica \"Intercambiadores de calor\" de E. Cao (pág. 155) recomienda los riguientes valores para las resistencias de ensuciamiento para fluidos industriales:\n",
    "\n",
    "\\begin{equation}\n",
    "R_{fi} = R_{fe} = 0.0002 \\frac{m^2 K}{W}\n",
    "\\end{equation}"
   ]
  },
  {
   "cell_type": "code",
   "execution_count": 30,
   "id": "6eec6d36",
   "metadata": {
    "slideshow": {
     "slide_type": "fragment"
    }
   },
   "outputs": [
    {
     "name": "stdout",
     "output_type": "stream",
     "text": [
      "El coeficiente global de transmisión es U = 561.45 W/m^2K\n"
     ]
    }
   ],
   "source": [
    "Ulimpio = 1 / (D / (Di * h_c) + 1 / h_f)   # W/m^2K\n",
    "\n",
    "Rf = 2e-4  # m^2K/W\n",
    "U = 1 / (1 / Ulimpio + Rf * (1 + D / Di))  # W/m^2K\n",
    "\n",
    "print(\"El coeficiente global de transmisión es U = %.2f W/m^2K\"%U)"
   ]
  },
  {
   "cell_type": "markdown",
   "id": "d133c9b9",
   "metadata": {
    "slideshow": {
     "slide_type": "slide"
    }
   },
   "source": [
    "## Paso 19: Verificación de la superficie de intercambio\n",
    "\n",
    "Debemos calcular el área $A_{calc}$ según la ecuación (3):\n",
    "\n",
    "\\begin{equation}\n",
    "A_{calc} = \\frac{\\dot{Q}}{U DTLM_{cc} F_t}\n",
    "\\end{equation}"
   ]
  },
  {
   "cell_type": "code",
   "execution_count": 31,
   "id": "6425d528",
   "metadata": {
    "slideshow": {
     "slide_type": "fragment"
    }
   },
   "outputs": [
    {
     "name": "stdout",
     "output_type": "stream",
     "text": [
      "El área de cálculo es Acalc = 41.61 m^2\n",
      "El área real de intercambio es A = 46.92 m^2\n"
     ]
    }
   ],
   "source": [
    "Acalc = Q / (U * DTLM_cc * Ft)  # m^2\n",
    "\n",
    "print(\"El área de cálculo es Acalc = %.2f m^2\"%Acalc)\n",
    "print(\"El área real de intercambio es A = %.2f m^2\"%A)"
   ]
  },
  {
   "cell_type": "markdown",
   "id": "d1272c95",
   "metadata": {
    "slideshow": {
     "slide_type": "fragment"
    }
   },
   "source": [
    "Aqui debemos buscar que se cumpla $Acalc < Areal$. En caso de no cumplirse, debemos volver a correr el código, modificando el valor de U que seleccionamos al inicio para que sea similar al obtenido en el paso 18. Lo ideal es que el área real sea entre un 10 y un 20% mayor a la calculada."
   ]
  },
  {
   "cell_type": "markdown",
   "id": "1c7c34f4",
   "metadata": {
    "slideshow": {
     "slide_type": "slide"
    }
   },
   "source": [
    "<br>\n",
    "\n",
    "## Paso 20: Cálculo de la caída de presión - Lado tubos\n",
    "\n",
    "La pérdida de carga será igual a la suma de la pérdida en los tubos más la que se produce en los cabezales por el cambio de dirección. Las expresiones y explicaciones pueden ser encontradas en la referencia bibliográfica \"Intercambiadores de calor\" de E. Cao (pág. 72).\n",
    "\n",
    "\\begin{equation}\n",
    "\\tag{15}\n",
    "\\Delta P_{tubos} = \\Delta P_t + \\Delta P_r\n",
    "\\end{equation}\n",
    "\n",
    "donde,\n",
    "\n",
    "\\begin{equation}\n",
    "\\Delta P_t = 4 f Np_t \\frac{L}{D_i} \\Big( \\frac{\\dot{m}_t}{A_c} \\Big)^2 \\frac{1}{2 \\rho} \\Big( \\frac{\\mu}{\\mu_w} \\Big)^a \\qquad \\Delta P_r = 4 Np_t \\Big( \\frac{\\dot{m}_t}{A_c} \\Big)^2 \\frac{1}{2 \\rho}\n",
    "\\end{equation}\n",
    "\n",
    "siendo $a = -0.14$ en régimen turbulento y $f$ el factor de fricción, que puede ser calculado de la siguiente manera para un flujo turbulento:\n",
    "\n",
    "\\begin{equation}\n",
    "f = 1.2 \\Big( 0.0014 + \\frac{0.125}{Re_d^{0.32}} \\Big)\n",
    "\\end{equation}"
   ]
  },
  {
   "cell_type": "markdown",
   "id": "01c642e5",
   "metadata": {
    "slideshow": {
     "slide_type": "slide"
    }
   },
   "source": [
    "## Paso 20: Cálculo de la caída de presión - Lado tubos\n",
    "\n",
    "Pasamos a los cálculos:"
   ]
  },
  {
   "cell_type": "code",
   "execution_count": 32,
   "id": "73ef4e9f",
   "metadata": {
    "slideshow": {
     "slide_type": "fragment"
    }
   },
   "outputs": [
    {
     "name": "stdout",
     "output_type": "stream",
     "text": [
      "La pérdida de carga en los tubos es DeltaP_t = 639.23 Pa\n",
      "La pérdida de carga en los cabezales es DeltaP_r = 365.35 Pa\n",
      "La pérdida de carga total en los tubos es DeltaP_tubos = 1004.58 Pa\n"
     ]
    }
   ],
   "source": [
    "ft = 1.2 * (0.0014 + 0.125 / Re_d ** .32)\n",
    "\n",
    "Gt = m_c * Npt * 4 / (Nt * np.pi * Di **2)  # kg/m^2s\n",
    "\n",
    "DeltaP_t = 4 * ft * Npt * Lt * Gt ** 2 / (2 * Di * rho_c) * (mu_c / mu_cw) ** -0.14  # Pa\n",
    "\n",
    "DeltaP_r = 4 * Npt * Gt ** 2 / rho_c / 2  # Pa\n",
    "\n",
    "DeltaP_tubos = DeltaP_t + DeltaP_r\n",
    "\n",
    "print(\"La pérdida de carga en los tubos es DeltaP_t = %.2f Pa\"%DeltaP_t)\n",
    "print(\"La pérdida de carga en los cabezales es DeltaP_r = %.2f Pa\"%DeltaP_r)\n",
    "print(\"La pérdida de carga total en los tubos es DeltaP_tubos = %.2f Pa\"%DeltaP_tubos)"
   ]
  },
  {
   "cell_type": "markdown",
   "id": "ce3a5fa6",
   "metadata": {
    "slideshow": {
     "slide_type": "slide"
    }
   },
   "source": [
    "<br>\n",
    "\n",
    "## Paso 21: Cálculo de la caída de presión - Lado carcasa\n",
    "\n",
    "La pérdida de carga en la carcasa puede ser calculada, como podemos ver en la referencia bibliográfica \"Intercambiadores de calor\" de E. Cao (pág. 77), de la siguiente manera:\n",
    "\n",
    "\\begin{equation}\n",
    "\\tag{16}\n",
    "\\Delta P_{carcasa} = f (N_b + 1) \\frac{D_s}{D_e} \\Big( \\frac{\\dot{m}_s}{A_s} \\Big)^2 \\frac{1}{2 \\rho} \\Big( \\frac{\\mu}{\\mu_w} \\Big)^{0.14}\n",
    "\\end{equation}\n",
    "\n",
    "donde $N_b$ es el número de bafles y $N_b + 1$ es el número de veces que el fluído cruza el haz de tubos. El factor de fricción puede calcularse según:\n",
    "\n",
    "\\begin{equation}\n",
    "f = \\text{e} ^ {5.1858\\ -\\ 1.7645\\ \\text{ln}(Re_s)\\ +\\ 0.13357\\ \\text{ln} (Re_s) ^2}\n",
    "\\end{equation}"
   ]
  },
  {
   "cell_type": "code",
   "execution_count": 33,
   "id": "e2ed18c4",
   "metadata": {
    "slideshow": {
     "slide_type": "fragment"
    }
   },
   "outputs": [
    {
     "name": "stdout",
     "output_type": "stream",
     "text": [
      "La pérdida de carga en la carcasa es DeltaP_carcasa = 20906.05 Pa\n"
     ]
    }
   ],
   "source": [
    "Nb = np.floor(Lt / (0.25 * Ds))\n",
    "\n",
    "fc = np.exp(5.1858 - 1.7645 * np.log(Re_s) + 0.13357 * np.log(Re_s) ** 2)\n",
    "\n",
    "DeltaP_carcasa = fc * (Nb + 1) *  Ds / De * (m_f / As) ** 2 * 1 / (2 * rho_f) * (mu_f / mu_fw) ** 0.14  # Pa\n",
    "\n",
    "print(\"La pérdida de carga en la carcasa es DeltaP_carcasa = %.2f Pa\"%DeltaP_carcasa)"
   ]
  },
  {
   "cell_type": "markdown",
   "id": "9cbe4ecc",
   "metadata": {
    "slideshow": {
     "slide_type": "slide"
    }
   },
   "source": [
    "## Paso 23: Desempeño del equipo\n",
    "\n",
    "Haremos uso del método $\\epsilon - NUT$ para evaluar el comportamiento del equipo ante una modificación en los parámetros. En una primera instancia, consideramos una caída en la temperatura de entrada del etilenglicol de 5°C. Sabemos que, visto que la eficiencia $\\varepsilon$ puede ser calculada como función de dos parámetros que son independientes de la temperatura ($\\varepsilon = \\varepsilon(C_R, NUT))$, ésta permanecerá constante ante la perturbación en la temperatura de entrada del etilenglicol. Por otra parte, también podemos calcular la eficienciencia a partir de su definición:\n",
    "\n",
    "\\begin{equation}\n",
    "\\tag{17}\n",
    "\\varepsilon = \\frac{\\Delta T_{max}}{T_{ce} - T_{fe}}\n",
    "\\end{equation}\n",
    "\n",
    "donde el $\\Delta T_{max}$ es aquel sufrido por el fluído con menor capacidad térmica. Veamos entonces si se trata del etilenglicol o del agua y calculemos la eficiencia para la condición de diseño."
   ]
  },
  {
   "cell_type": "markdown",
   "id": "ea334e79",
   "metadata": {
    "slideshow": {
     "slide_type": "slide"
    }
   },
   "source": [
    "## Paso 23: Desempeño del equipo"
   ]
  },
  {
   "cell_type": "code",
   "execution_count": 34,
   "id": "35988b62",
   "metadata": {
    "slideshow": {
     "slide_type": "fragment"
    }
   },
   "outputs": [
    {
     "name": "stdout",
     "output_type": "stream",
     "text": [
      "El fluído frío tiene la menor capacidad térmica\n",
      "El valor de la eficiencia es epsilon = 0.583\n"
     ]
    }
   ],
   "source": [
    "if C_c * m_c < C_f * m_f:\n",
    "    print(\"El fluído caliente tiene la menor capacidad térmica\")\n",
    "    Cmin = C_c * m_c\n",
    "    Cmax = C_f * m_f\n",
    "else:\n",
    "    print(\"El fluído frío tiene la menor capacidad térmica\")\n",
    "    Cmin = C_f * m_f\n",
    "    Cmax = C_c * m_c\n",
    "\n",
    "epsilon = (Tfs - Tfe) / (Tce - Tfe)\n",
    "\n",
    "print(\"El valor de la eficiencia es epsilon = %.3f\"%epsilon)"
   ]
  },
  {
   "cell_type": "markdown",
   "id": "dec75add",
   "metadata": {
    "slideshow": {
     "slide_type": "slide"
    }
   },
   "source": [
    "## Paso 23: Desempeño del equipo\n",
    "\n",
    "Ahora, considerando que la eficiencia permanece constante, podemos despejar la $T_{fs}$ para la condición perturbada, es decir, $T_{fe} = 0°C$:\n",
    "\n",
    "\\begin{equation}\n",
    "T_{fs} = \\varepsilon (T_{ce} - T_{fe}) + T_{fe}\n",
    "\\end{equation}"
   ]
  },
  {
   "cell_type": "code",
   "execution_count": 35,
   "id": "72941ece",
   "metadata": {
    "slideshow": {
     "slide_type": "fragment"
    }
   },
   "outputs": [
    {
     "name": "stdout",
     "output_type": "stream",
     "text": [
      "La temperatura de salida del etilenglicol es Tfs = 37.92 °C\n"
     ]
    }
   ],
   "source": [
    "Tfe_old = Tfe  # °C - Guardamos el valor de la temperatura de entrada de diseño\n",
    "\n",
    "Tfe = 0  # °C\n",
    "\n",
    "Tfs = epsilon * (Tce - Tfe) + Tfe  # °C\n",
    "\n",
    "print(\"La temperatura de salida del etilenglicol es Tfs = %.2f °C\"%Tfs)"
   ]
  },
  {
   "cell_type": "markdown",
   "id": "0bdc4c16",
   "metadata": {
    "slideshow": {
     "slide_type": "slide"
    }
   },
   "source": [
    "## Paso 23: Desempeño del equipo\n",
    "\n",
    "Luego, podemos calcular el calor intercambiado:"
   ]
  },
  {
   "cell_type": "code",
   "execution_count": 36,
   "id": "fd44a36d",
   "metadata": {
    "slideshow": {
     "slide_type": "fragment"
    }
   },
   "outputs": [
    {
     "name": "stdout",
     "output_type": "stream",
     "text": [
      "El calor intercambiado previo a la perturbación es Q_old = 614321.55 W\n",
      "El nuevo calor intercambiado es Q = 665515.01 W\n"
     ]
    }
   ],
   "source": [
    "Q_old = Q\n",
    "\n",
    "print(\"El calor intercambiado previo a la perturbación es Q_old = %.2f W\"%Q_old)\n",
    "\n",
    "Q = m_f * C_f * (Tfs - Tfe)  # W\n",
    "\n",
    "print(\"El nuevo calor intercambiado es Q = %.2f W\"%Q)"
   ]
  },
  {
   "cell_type": "markdown",
   "id": "444ab4eb",
   "metadata": {
    "slideshow": {
     "slide_type": "slide"
    }
   },
   "source": [
    "## Paso 23: Desempeño del equipo\n",
    "\n",
    "Y la temperatura de salida del agua:"
   ]
  },
  {
   "cell_type": "code",
   "execution_count": 37,
   "id": "b8456003",
   "metadata": {
    "slideshow": {
     "slide_type": "fragment"
    }
   },
   "outputs": [
    {
     "name": "stdout",
     "output_type": "stream",
     "text": [
      "La temperatura de salida del agua es Tcs = 41.17 °C\n"
     ]
    }
   ],
   "source": [
    "Tcs_old = Tcs  # °C - Guardamos el valor de la temperatura de salida de diseño\n",
    "\n",
    "Tcs = Tce - Q / (C_c * m_c)  # °C\n",
    "\n",
    "print(\"La temperatura de salida del agua es Tcs = %.2f °C\"%Tcs)"
   ]
  },
  {
   "cell_type": "markdown",
   "id": "4ce4ae04",
   "metadata": {
    "slideshow": {
     "slide_type": "fragment"
    }
   },
   "source": [
    "Luego, podemos ver que no alcanzamos la condición de diseño, ya que la temperatura de salida del etilenglicol $T_{fs}$ no alcanza los 40°C."
   ]
  },
  {
   "cell_type": "markdown",
   "id": "e8cad8ea",
   "metadata": {
    "slideshow": {
     "slide_type": "slide"
    }
   },
   "source": [
    "## Paso 23: Desempeño del equipo\n",
    "\n",
    "Ahora, debemos calcular el caudal de agua que debemos aplicar para lograr que $T_{fs}$ sea nuevamente 40°C. Para ello, comenzamos por calcuar la eficiencia para esta nueva condición:"
   ]
  },
  {
   "cell_type": "code",
   "execution_count": 38,
   "id": "de34e0de",
   "metadata": {
    "slideshow": {
     "slide_type": "fragment"
    }
   },
   "outputs": [
    {
     "name": "stdout",
     "output_type": "stream",
     "text": [
      "El valor de la nuvea eficiencia es epsilon = 0.615\n"
     ]
    }
   ],
   "source": [
    "Tfs = 40  # °C\n",
    "\n",
    "epsilon = (Tfs - Tfe) / (Tce - Tfe)\n",
    "\n",
    "print(\"El valor de la nuvea eficiencia es epsilon = %.3f\"%epsilon)"
   ]
  },
  {
   "cell_type": "markdown",
   "id": "65bc4dcf",
   "metadata": {
    "slideshow": {
     "slide_type": "fragment"
    }
   },
   "source": [
    "Luego, podemos calcular el valor del número de unidades de transferencia:"
   ]
  },
  {
   "cell_type": "code",
   "execution_count": 39,
   "id": "d6de7bc9",
   "metadata": {
    "slideshow": {
     "slide_type": "fragment"
    }
   },
   "outputs": [
    {
     "name": "stdout",
     "output_type": "stream",
     "text": [
      "El número de unidades de transferencia es NUT = 1.501\n"
     ]
    }
   ],
   "source": [
    "NUT = U * A / Cmin\n",
    "\n",
    "print(\"El número de unidades de transferencia es NUT = %.3f\"%NUT)"
   ]
  },
  {
   "cell_type": "markdown",
   "id": "c9675256",
   "metadata": {
    "slideshow": {
     "slide_type": "slide"
    }
   },
   "source": [
    "<br>\n",
    "\n",
    "## Paso 23: Desempeño del equipo\n",
    "\n",
    "Ahora, debemos calcular el valor de $C_R$ de la definición de eficiencia:\n",
    "\n",
    "\\begin{equation}\n",
    "\\tag{18}\n",
    "\\varepsilon = 2 \\Bigg( 1 + C_R + \\sqrt{1 + C_R^2} \\frac{1 + \\text{e}^{-NUT\\sqrt{1 + C_R^2}}}{1 - \\text{e}^{-NUT\\sqrt{1 + C_R^2}}} \\Bigg) ^ {-1}\n",
    "\\end{equation}\n",
    "\n",
    "Para ello, vamos a calcular de manera iterativa hasta encontrar el valor de $C_R$ que otorgue la eficiencia que calculamos en la slide anterior. \n",
    "\n"
   ]
  },
  {
   "cell_type": "code",
   "execution_count": 40,
   "id": "5bf0a265",
   "metadata": {
    "slideshow": {
     "slide_type": "fragment"
    }
   },
   "outputs": [
    {
     "name": "stdout",
     "output_type": "stream",
     "text": [
      "El resultado obtenido es Cr = 0.5949\n"
     ]
    }
   ],
   "source": [
    "Cr = 0\n",
    "epsilon_it = 0\n",
    "\n",
    "while abs(epsilon - epsilon_it) > 1e-5:\n",
    "    A = np.sqrt(1 + Cr ** 2)\n",
    "    B = -NUT * A\n",
    "    epsilon_it = 2 * (1 + Cr + A * (1 + np.exp(B)) / (1 - np.exp(B))) ** (-1)\n",
    "    Cr += 0.0001\n",
    "    \n",
    "print(\"El resultado obtenido es Cr = %.4f\"%Cr)"
   ]
  },
  {
   "cell_type": "markdown",
   "id": "4701d345",
   "metadata": {
    "slideshow": {
     "slide_type": "slide"
    }
   },
   "source": [
    "## Paso 23: Desempeño del equipo\n",
    "\n",
    "Luego, de la definición de $C_R$ podemos despejar $\\dot{m}_c$:\n",
    "\n",
    "\\begin{equation}\n",
    "C_R = \\frac{(\\dot{m} C)_{min}}{(\\dot{m} C)_{max}} \\quad \\Rightarrow \\quad \\dot{m}_c = \\frac{\\dot{m}_f C_f}{C_R C_c}\n",
    "\\end{equation}"
   ]
  },
  {
   "cell_type": "code",
   "execution_count": 41,
   "id": "fdd7446d",
   "metadata": {
    "slideshow": {
     "slide_type": "fragment"
    }
   },
   "outputs": [
    {
     "name": "stdout",
     "output_type": "stream",
     "text": [
      "El nuevo caudal de agua deberá ser m_c = 7.05 kg/s\n",
      "Se requiere un aumento en el caudal de agua del 5.66 %\n"
     ]
    }
   ],
   "source": [
    "m_c_old = m_c\n",
    "\n",
    "m_c = m_f * C_f / (Cr * C_c)\n",
    "\n",
    "print(\"El nuevo caudal de agua deberá ser m_c = %.2f kg/s\"%m_c)\n",
    "print(\"Se requiere un aumento en el caudal de agua del %.2f %%\"%((m_c - m_c_old) / m_c_old * 100))"
   ]
  },
  {
   "cell_type": "markdown",
   "id": "a00228bf",
   "metadata": {
    "slideshow": {
     "slide_type": "slide"
    }
   },
   "source": [
    "## Paso 23: Desempeño del equipo\n",
    "\n",
    "Finalmente, podemos calcular el calor intercambiado y la temperatura de salida del agua:"
   ]
  },
  {
   "cell_type": "code",
   "execution_count": 42,
   "id": "5782cc17",
   "metadata": {
    "slideshow": {
     "slide_type": "fragment"
    }
   },
   "outputs": [
    {
     "name": "stdout",
     "output_type": "stream",
     "text": [
      "El nuevo calor intercambiado es Q = 702081.77 W\n",
      "La temperatura de salida del agua es Tcs = 41.20 °C\n"
     ]
    }
   ],
   "source": [
    "Q = m_f * C_f * (Tfs - Tfe)  # W\n",
    "\n",
    "print(\"El nuevo calor intercambiado es Q = %.2f W\"%Q)\n",
    "\n",
    "Tcs = Tce - Q / (C_c * m_c)  # °C\n",
    "\n",
    "print(\"La temperatura de salida del agua es Tcs = %.2f °C\"%Tcs)"
   ]
  },
  {
   "cell_type": "markdown",
   "id": "cada1057",
   "metadata": {
    "slideshow": {
     "slide_type": "slide"
    }
   },
   "source": [
    "## Paso 24: Exportación de datos\n",
    "\n",
    "Por último, exportaremos los datos de diseño:"
   ]
  },
  {
   "cell_type": "code",
   "execution_count": 44,
   "id": "85b5dd98",
   "metadata": {
    "slideshow": {
     "slide_type": "fragment"
    }
   },
   "outputs": [
    {
     "data": {
      "text/html": [
       "<div>\n",
       "<style scoped>\n",
       "    .dataframe tbody tr th:only-of-type {\n",
       "        vertical-align: middle;\n",
       "    }\n",
       "\n",
       "    .dataframe tbody tr th {\n",
       "        vertical-align: top;\n",
       "    }\n",
       "\n",
       "    .dataframe thead th {\n",
       "        text-align: right;\n",
       "    }\n",
       "</style>\n",
       "<table border=\"1\" class=\"dataframe\">\n",
       "  <thead>\n",
       "    <tr style=\"text-align: right;\">\n",
       "      <th></th>\n",
       "      <th>Unnamed: 0</th>\n",
       "      <th>Unnamed: 1</th>\n",
       "      <th>Unnamed: 2</th>\n",
       "    </tr>\n",
       "  </thead>\n",
       "  <tbody>\n",
       "    <tr>\n",
       "      <th>0</th>\n",
       "      <td>Nombre Fluido</td>\n",
       "      <td>Agua</td>\n",
       "      <td>Etilenglicol</td>\n",
       "    </tr>\n",
       "    <tr>\n",
       "      <th>1</th>\n",
       "      <td>Caudal masico (kg/s)</td>\n",
       "      <td>6.68</td>\n",
       "      <td>4.50</td>\n",
       "    </tr>\n",
       "    <tr>\n",
       "      <th>2</th>\n",
       "      <td>Temperatura Entrada</td>\n",
       "      <td>65.0</td>\n",
       "      <td>5.0</td>\n",
       "    </tr>\n",
       "    <tr>\n",
       "      <th>3</th>\n",
       "      <td>Temperatura salida</td>\n",
       "      <td>43.0</td>\n",
       "      <td>40.0</td>\n",
       "    </tr>\n",
       "    <tr>\n",
       "      <th>4</th>\n",
       "      <td>Densidad kg/m3</td>\n",
       "      <td>986.25</td>\n",
       "      <td>1023.34</td>\n",
       "    </tr>\n",
       "    <tr>\n",
       "      <th>5</th>\n",
       "      <td>Viscosidad cP</td>\n",
       "      <td>0.51</td>\n",
       "      <td>1.56</td>\n",
       "    </tr>\n",
       "    <tr>\n",
       "      <th>6</th>\n",
       "      <td>Calor específico J/Kg C</td>\n",
       "      <td>4182.6</td>\n",
       "      <td>3900.5</td>\n",
       "    </tr>\n",
       "    <tr>\n",
       "      <th>7</th>\n",
       "      <td>Conductividad térmica W/Kg C</td>\n",
       "      <td>0.645</td>\n",
       "      <td>0.510</td>\n",
       "    </tr>\n",
       "    <tr>\n",
       "      <th>8</th>\n",
       "      <td>Presión de entrada kPa</td>\n",
       "      <td>101.3</td>\n",
       "      <td>101.3</td>\n",
       "    </tr>\n",
       "    <tr>\n",
       "      <th>9</th>\n",
       "      <td>NaN</td>\n",
       "      <td>NaN</td>\n",
       "      <td>NaN</td>\n",
       "    </tr>\n",
       "    <tr>\n",
       "      <th>10</th>\n",
       "      <td>Caída de presión Pa</td>\n",
       "      <td>1004.579</td>\n",
       "      <td>20906.052</td>\n",
       "    </tr>\n",
       "    <tr>\n",
       "      <th>11</th>\n",
       "      <td>Resistencia de ensuciamiento m2C/W</td>\n",
       "      <td>0.0002</td>\n",
       "      <td>0.0002</td>\n",
       "    </tr>\n",
       "    <tr>\n",
       "      <th>12</th>\n",
       "      <td>Calor intercambiado kW</td>\n",
       "      <td>614.3</td>\n",
       "      <td>-----</td>\n",
       "    </tr>\n",
       "    <tr>\n",
       "      <th>13</th>\n",
       "      <td>Coeficiente Global de Transferencia</td>\n",
       "      <td>561.4</td>\n",
       "      <td>-----</td>\n",
       "    </tr>\n",
       "    <tr>\n",
       "      <th>14</th>\n",
       "      <td>Número de pasos de tubos</td>\n",
       "      <td>2</td>\n",
       "      <td>-----</td>\n",
       "    </tr>\n",
       "    <tr>\n",
       "      <th>15</th>\n",
       "      <td>Número de pasos de carcasa</td>\n",
       "      <td>1.0</td>\n",
       "      <td>-----</td>\n",
       "    </tr>\n",
       "    <tr>\n",
       "      <th>16</th>\n",
       "      <td>Tubos Longitud m</td>\n",
       "      <td>3.00</td>\n",
       "      <td>-----</td>\n",
       "    </tr>\n",
       "    <tr>\n",
       "      <th>17</th>\n",
       "      <td>Tubos D exterior mm</td>\n",
       "      <td>25.40</td>\n",
       "      <td>-----</td>\n",
       "    </tr>\n",
       "    <tr>\n",
       "      <th>18</th>\n",
       "      <td>Tubos D interior mm</td>\n",
       "      <td>17.00</td>\n",
       "      <td>-----</td>\n",
       "    </tr>\n",
       "    <tr>\n",
       "      <th>19</th>\n",
       "      <td>Tubos espesor mm</td>\n",
       "      <td>4.20</td>\n",
       "      <td>-----</td>\n",
       "    </tr>\n",
       "    <tr>\n",
       "      <th>20</th>\n",
       "      <td>Diámetro de la carcasa mm</td>\n",
       "      <td>539.75</td>\n",
       "      <td>-----</td>\n",
       "    </tr>\n",
       "  </tbody>\n",
       "</table>\n",
       "</div>"
      ],
      "text/plain": [
       "                             Unnamed: 0 Unnamed: 1    Unnamed: 2\n",
       "0                         Nombre Fluido       Agua  Etilenglicol\n",
       "1                  Caudal masico (kg/s)       6.68          4.50\n",
       "2                   Temperatura Entrada       65.0           5.0\n",
       "3                    Temperatura salida       43.0          40.0\n",
       "4                        Densidad kg/m3     986.25       1023.34\n",
       "5                         Viscosidad cP       0.51          1.56\n",
       "6               Calor específico J/Kg C     4182.6        3900.5\n",
       "7          Conductividad térmica W/Kg C      0.645         0.510\n",
       "8                Presión de entrada kPa      101.3         101.3\n",
       "9                                   NaN        NaN           NaN\n",
       "10                  Caída de presión Pa   1004.579     20906.052\n",
       "11   Resistencia de ensuciamiento m2C/W     0.0002        0.0002\n",
       "12               Calor intercambiado kW      614.3         -----\n",
       "13  Coeficiente Global de Transferencia      561.4         -----\n",
       "14             Número de pasos de tubos          2         -----\n",
       "15           Número de pasos de carcasa        1.0         -----\n",
       "16                     Tubos Longitud m       3.00         -----\n",
       "17                  Tubos D exterior mm      25.40         -----\n",
       "18                  Tubos D interior mm      17.00         -----\n",
       "19                     Tubos espesor mm       4.20         -----\n",
       "20            Diámetro de la carcasa mm     539.75         -----"
      ]
     },
     "execution_count": 44,
     "metadata": {},
     "output_type": "execute_result"
    }
   ],
   "source": [
    "import xlwt as xw\n",
    "import pandas as pd\n",
    "# Workbook is created \n",
    "wb = xw.Workbook() \n",
    "xw.add_palette_colour(\"gris\", 0x21)\n",
    "wb.set_colour_RGB(0x21, 200, 200,200)  \n",
    "# add_sheet is used to create sheet. \n",
    "sheet1 = wb.add_sheet('Performance Unidad') \n",
    "style = xw.easyxf('pattern: pattern solid, fore_colour gris;')\n",
    "# Input data into rows \n",
    "sheet1.write(3, 0, 'Nombre Fluido') \n",
    "sheet1.write(3, 1, 'Agua') \n",
    "sheet1.write(3, 2, 'Etilenglicol') \n",
    "\n",
    "sheet1.write(4, 0, 'Caudal masico (kg/s)',style) \n",
    "sheet1.write(4, 1, '%.2f'%(m_c_old), style) \n",
    "sheet1.write(4, 2, '%.2f'%(m_f),style) \n",
    "\n",
    "sheet1.write(5, 0, 'Temperatura Entrada') \n",
    "sheet1.write(5, 1, '%.1f'%(Tce)) \n",
    "sheet1.write(5, 2, '%.1f'%(Tfe_old)) \n",
    "\n",
    "sheet1.write(6, 0, 'Temperatura salida',style) \n",
    "sheet1.write(6, 1, '%.1f'%(Tcs_old),style) \n",
    "sheet1.write(6, 2, '%.1f'%(Tfs),style) \n",
    "\n",
    "sheet1.write(7, 0, 'Densidad kg/m3') \n",
    "sheet1.write(7, 1, '%.2f'%rho_c) \n",
    "sheet1.write(7, 2, '%.2f'%rho_f) \n",
    "\n",
    "sheet1.write(8, 0, 'Viscosidad cP',style) \n",
    "sheet1.write(8, 1, '%.2f'%(1e3*mu_c),style) \n",
    "sheet1.write(8, 2, '%.2f'%(1e3*mu_f),style) \n",
    "\n",
    "sheet1.write(9, 0, 'Calor específico J/Kg C')\n",
    "sheet1.write(9, 1, '%.1f'%C_c)\n",
    "sheet1.write(9, 2, '%.1f'%C_f)\n",
    "\n",
    "sheet1.write(10, 0, 'Conductividad térmica W/Kg C',style) \n",
    "sheet1.write(10, 1, '%.3f'%(k_c),style) \n",
    "sheet1.write(10, 2, '%.3f'%(k_f),style) \n",
    "\n",
    "sheet1.write(11, 0, 'Presión de entrada kPa') \n",
    "sheet1.write(11, 1, '%.1f'%(101.3))\n",
    "sheet1.write(11, 2, '%.1f'%(101.3))\n",
    "\n",
    "sheet1.write(13, 0, 'Caída de presión Pa') \n",
    "sheet1.write(13, 1, '%.3f'%(DeltaP_tubos))\n",
    "sheet1.write(13, 2, '%.3f'%(DeltaP_carcasa))\n",
    "\n",
    "sheet1.write(14, 0, 'Resistencia de ensuciamiento m2C/W',style) \n",
    "sheet1.write(14, 1, '%.4f'%(Rf),style)\n",
    "sheet1.write(14, 2, '%.4f'%(Rf),style)\n",
    "\n",
    "sheet1.write(15, 0, 'Calor intercambiado kW') \n",
    "sheet1.write(15, 1, '%.1f'%(Q_old/1e3))\n",
    "sheet1.write(15, 2, '-----')\n",
    "\n",
    "sheet1.write(16, 0, 'Coeficiente Global de Transferencia',style)\n",
    "sheet1.write(16, 1, '%.1f'%(U),style)\n",
    "sheet1.write(16, 2, '-----',style)\n",
    "\n",
    "sheet1.write(17, 0, 'Número de pasos de tubos')\n",
    "sheet1.write(17, 1, '%0d'%Npt)\n",
    "sheet1.write(17, 2, '-----')\n",
    "\n",
    "sheet1.write(18, 0, 'Número de pasos de carcasa',style)\n",
    "sheet1.write(18, 1, '%.1f'%(Nps),style)\n",
    "sheet1.write(18, 2, '-----',style)\n",
    "\n",
    "sheet1.write(19, 0, 'Tubos Longitud m')\n",
    "sheet1.write(19, 1, '%.2f'%Lt)\n",
    "sheet1.write(19, 2, '-----')\n",
    "\n",
    "sheet1.write(20, 0, 'Tubos D exterior mm',style)\n",
    "sheet1.write(20, 1, '%.2f'%(D*1e3),style)\n",
    "sheet1.write(20, 2, '-----',style)\n",
    "\n",
    "sheet1.write(21, 0, 'Tubos D interior mm')\n",
    "sheet1.write(21, 1, '%.2f'%(Di*1e3))\n",
    "sheet1.write(21, 2, '-----')\n",
    "             \n",
    "sheet1.write(22, 0, 'Tubos espesor mm',style)\n",
    "sheet1.write(22, 1, '%.2f'%(e*1e3),style)\n",
    "sheet1.write(22, 2, '-----')\n",
    "             \n",
    "sheet1.write(23,0,'Diámetro de la carcasa mm')             \n",
    "sheet1.write(23,1,'%.2f'%(Ds*1e3))\n",
    "sheet1.write(23,2,'-----')\n",
    "\n",
    "nombre_salida = 'intercambiador_casco_y_tubos.xls'\n",
    "wb.save(nombre_salida)\n",
    "data_salida_excel = pd.read_excel('./'+nombre_salida,skiprows=2)\n",
    "data_salida_excel"
   ]
  }
 ],
 "metadata": {
  "celltoolbar": "Slideshow",
  "kernelspec": {
   "display_name": "Python 3 (ipykernel)",
   "language": "python",
   "name": "python3"
  },
  "language_info": {
   "codemirror_mode": {
    "name": "ipython",
    "version": 3
   },
   "file_extension": ".py",
   "mimetype": "text/x-python",
   "name": "python",
   "nbconvert_exporter": "python",
   "pygments_lexer": "ipython3",
   "version": "3.9.12"
  },
  "nbTranslate": {
   "displayLangs": [
    "*"
   ],
   "hotkey": "alt-t",
   "langInMainMenu": true,
   "sourceLang": "en",
   "targetLang": "fr",
   "useGoogleTranslate": true
  },
  "rise": {
   "_theme_options": [
    "black",
    "white",
    "league",
    "beige",
    "sky",
    "night",
    "serif"
   ],
   "_transition_options": [
    "none",
    "fade",
    "slide",
    "convex",
    "concave",
    "zoom"
   ],
   "autolaunch": false,
   "backimage": "images/fondo_presentacion.png",
   "enable_chalkboard": true,
   "footer": "<h3 style='margin-left:225px;margin-bottom:40px;color:grey;'>Juan Cruz Gonzalez Sembla</h3>",
   "theme": "simple",
   "transition": "slide"
  },
  "varInspector": {
   "cols": {
    "lenName": 16,
    "lenType": 16,
    "lenVar": 40
   },
   "kernels_config": {
    "python": {
     "delete_cmd_postfix": "",
     "delete_cmd_prefix": "del ",
     "library": "var_list.py",
     "varRefreshCmd": "print(var_dic_list())"
    },
    "r": {
     "delete_cmd_postfix": ") ",
     "delete_cmd_prefix": "rm(",
     "library": "var_list.r",
     "varRefreshCmd": "cat(var_dic_list()) "
    }
   },
   "types_to_exclude": [
    "module",
    "function",
    "builtin_function_or_method",
    "instance",
    "_Feature"
   ],
   "window_display": false
  }
 },
 "nbformat": 4,
 "nbformat_minor": 5
}
